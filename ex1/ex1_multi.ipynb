{
 "cells": [
  {
   "cell_type": "code",
   "execution_count": 1,
   "metadata": {
    "collapsed": true
   },
   "outputs": [],
   "source": [
    "import numpy as np\n",
    "import pandas as pd\n",
    "import matplotlib.pyplot as plt\n",
    "from mpl_toolkits.mplot3d import Axes3D"
   ]
  },
  {
   "cell_type": "code",
   "execution_count": 15,
   "metadata": {},
   "outputs": [],
   "source": [
    "path_2 = 'ex1data2.txt'\n",
    "data_2 = pd.read_csv(path_2, header=None, names=['House Size', 'Bedrooms', 'Price'])\n",
    "length = len(data_2.index)"
   ]
  },
  {
   "cell_type": "code",
   "execution_count": 16,
   "metadata": {
    "collapsed": true
   },
   "outputs": [],
   "source": [
    "def featureNormalize(X): \n",
    "    length = len(X.columns)\n",
    "    for i in range(length):\n",
    "        mean = X.mean()\n",
    "        std = X.std()\n",
    "    return ((X - mean) / std, mean, std)"
   ]
  },
  {
   "cell_type": "code",
   "execution_count": 17,
   "metadata": {
    "collapsed": true
   },
   "outputs": [],
   "source": [
    "(data_2, mean, std) = featureNormalize(data_2)\n",
    "\n",
    "ones = pd.Series(1, index=data_2.index)\n",
    "data_2.insert(0, 'ones', ones)\n",
    "columns = len(data_2.columns)\n",
    "\n",
    "X = data_2.iloc[:, 0:columns-1]\n",
    "y = data_2.iloc[:, columns-1:columns]\n",
    "\n",
    "X = np.matrix(X.values)\n",
    "y = np.matrix(y.values)\n",
    "\n",
    "iterations = 400\n",
    "alpha = 0.01\n",
    "theta = np.matrix(np.zeros((1, X.shape[1])))"
   ]
  },
  {
   "cell_type": "code",
   "execution_count": 18,
   "metadata": {},
   "outputs": [
    {
     "data": {
      "text/plain": [
       "0.48936170212765967"
      ]
     },
     "execution_count": 18,
     "metadata": {},
     "output_type": "execute_result"
    }
   ],
   "source": [
    "# Initial cost\n",
    "computeCost(X, theta, y)"
   ]
  },
  {
   "cell_type": "code",
   "execution_count": 11,
   "metadata": {
    "collapsed": true
   },
   "outputs": [],
   "source": [
    "def computeCost(X, theta, y):\n",
    "    hypothesis = X*theta.T\n",
    "    cost = np.power((hypothesis - y), 2).sum() / (2 * length)\n",
    "    return cost"
   ]
  },
  {
   "cell_type": "code",
   "execution_count": 12,
   "metadata": {
    "collapsed": true
   },
   "outputs": [],
   "source": [
    "def gradientDescent(X, y, theta, alpha, iterations):\n",
    "    cost = np.zeros(iterations)\n",
    "                           \n",
    "    for i in range(iterations):\n",
    "        hypothesis = X * theta.T\n",
    "        theta = theta - alpha / length * ((hypothesis - y).T * X) \n",
    "        cost[i] = computeCost(X, theta, y)\n",
    "        \n",
    "    return theta, cost"
   ]
  },
  {
   "cell_type": "code",
   "execution_count": 23,
   "metadata": {},
   "outputs": [
    {
     "data": {
      "text/plain": [
       "matrix([[ -1.11104979e-16,   8.69917965e-01,  -3.83345503e-02]])"
      ]
     },
     "execution_count": 23,
     "metadata": {},
     "output_type": "execute_result"
    }
   ],
   "source": [
    "theta, cost = gradientDescent(X, y, theta, alpha, iterations)\n",
    "theta"
   ]
  },
  {
   "cell_type": "code",
   "execution_count": 20,
   "metadata": {},
   "outputs": [
    {
     "data": {
      "text/plain": [
       "0.13368618563317541"
      ]
     },
     "execution_count": 20,
     "metadata": {},
     "output_type": "execute_result"
    }
   ],
   "source": [
    "# Final cost\n",
    "computeCost(X, theta, y)"
   ]
  }
 ],
 "metadata": {
  "kernelspec": {
   "display_name": "Python 3",
   "language": "python",
   "name": "python3"
  },
  "language_info": {
   "codemirror_mode": {
    "name": "ipython",
    "version": 3
   },
   "file_extension": ".py",
   "mimetype": "text/x-python",
   "name": "python",
   "nbconvert_exporter": "python",
   "pygments_lexer": "ipython3",
   "version": "3.6.1"
  }
 },
 "nbformat": 4,
 "nbformat_minor": 2
}
